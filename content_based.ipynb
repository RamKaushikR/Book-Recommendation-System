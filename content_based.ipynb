{
  "nbformat": 4,
  "nbformat_minor": 0,
  "metadata": {
    "colab": {
      "name": "content_based_recommendation_system.ipynb",
      "version": "0.3.2",
      "provenance": [],
      "collapsed_sections": [],
      "include_colab_link": true
    },
    "kernelspec": {
      "name": "python3",
      "display_name": "Python 3"
    },
    "accelerator": "TPU"
  },
  "cells": [
    {
      "cell_type": "markdown",
      "metadata": {
        "id": "view-in-github",
        "colab_type": "text"
      },
      "source": [
        "<a href=\"https://colab.research.google.com/github/RamKaushikR/Book-Recommendation-System/blob/master/content_based.ipynb\" target=\"_parent\"><img src=\"https://colab.research.google.com/assets/colab-badge.svg\" alt=\"Open In Colab\"/></a>"
      ]
    },
    {
      "metadata": {
        "id": "AMz3WMK5PG2x",
        "colab_type": "code",
        "outputId": "3432a5c3-5b4a-4594-a64f-b683ea583bd5",
        "colab": {
          "base_uri": "https://localhost:8080/",
          "height": 34
        }
      },
      "cell_type": "code",
      "source": [
        "from google.colab import drive\n",
        "drive.mount('/content/gdrive')"
      ],
      "execution_count": 1,
      "outputs": [
        {
          "output_type": "stream",
          "text": [
            "Drive already mounted at /content/gdrive; to attempt to forcibly remount, call drive.mount(\"/content/gdrive\", force_remount=True).\n"
          ],
          "name": "stdout"
        }
      ]
    },
    {
      "metadata": {
        "id": "egpafV0blyjR",
        "colab_type": "code",
        "colab": {}
      },
      "cell_type": "code",
      "source": [
        "import numpy as np\n",
        "import pandas as pd\n",
        "from sklearn.metrics.pairwise import linear_kernel\n",
        "from sklearn.feature_extraction.text import TfidfVectorizer"
      ],
      "execution_count": 2,
      "outputs": []
    },
    {
      "metadata": {
        "id": "glQ4Q38lRJQo",
        "colab_type": "code",
        "outputId": "ebe1bb85-c4e6-4c1e-fcbf-3978cb7b958a",
        "colab": {
          "base_uri": "https://localhost:8080/",
          "height": 206
        }
      },
      "cell_type": "code",
      "source": [
        "df = pd.read_csv('/content/gdrive/My Drive/Book Recommendation/description.csv', encoding = 'latin-1')\n",
        "df.head()"
      ],
      "execution_count": 3,
      "outputs": [
        {
          "output_type": "execute_result",
          "data": {
            "text/html": [
              "<div>\n",
              "<style scoped>\n",
              "    .dataframe tbody tr th:only-of-type {\n",
              "        vertical-align: middle;\n",
              "    }\n",
              "\n",
              "    .dataframe tbody tr th {\n",
              "        vertical-align: top;\n",
              "    }\n",
              "\n",
              "    .dataframe thead th {\n",
              "        text-align: right;\n",
              "    }\n",
              "</style>\n",
              "<table border=\"1\" class=\"dataframe\">\n",
              "  <thead>\n",
              "    <tr style=\"text-align: right;\">\n",
              "      <th></th>\n",
              "      <th>book_id</th>\n",
              "      <th>name</th>\n",
              "      <th>description</th>\n",
              "    </tr>\n",
              "  </thead>\n",
              "  <tbody>\n",
              "    <tr>\n",
              "      <th>0</th>\n",
              "      <td>4833.0</td>\n",
              "      <td>The Glass Castle</td>\n",
              "      <td>A tender, moving tale of unconditional love in...</td>\n",
              "    </tr>\n",
              "    <tr>\n",
              "      <th>1</th>\n",
              "      <td>590.0</td>\n",
              "      <td>Night (The Night Trilogy, #1)</td>\n",
              "      <td>Born into a Jewish ghetto in Hungary, as a chi...</td>\n",
              "    </tr>\n",
              "    <tr>\n",
              "      <th>2</th>\n",
              "      <td>4264.0</td>\n",
              "      <td>Angela's Ashes (Frank McCourt, #1)</td>\n",
              "      <td>Imbued on every page with Frank McCourt's asto...</td>\n",
              "    </tr>\n",
              "    <tr>\n",
              "      <th>3</th>\n",
              "      <td>3361.0</td>\n",
              "      <td>Eat, Pray, Love</td>\n",
              "      <td>A celebrated writer's irresistible, candid, an...</td>\n",
              "    </tr>\n",
              "    <tr>\n",
              "      <th>4</th>\n",
              "      <td>4535.0</td>\n",
              "      <td>Into Thin Air: A Personal Account of the Mount...</td>\n",
              "      <td>A bank of clouds was assembling on the not-so-...</td>\n",
              "    </tr>\n",
              "  </tbody>\n",
              "</table>\n",
              "</div>"
            ],
            "text/plain": [
              "   book_id                                               name  \\\n",
              "0   4833.0                                  The Glass Castle    \n",
              "1    590.0                     Night (The Night Trilogy, #1)    \n",
              "2   4264.0                Angela's Ashes (Frank McCourt, #1)    \n",
              "3   3361.0                                   Eat, Pray, Love    \n",
              "4   4535.0  Into Thin Air: A Personal Account of the Mount...   \n",
              "\n",
              "                                         description  \n",
              "0  A tender, moving tale of unconditional love in...  \n",
              "1  Born into a Jewish ghetto in Hungary, as a chi...  \n",
              "2  Imbued on every page with Frank McCourt's asto...  \n",
              "3  A celebrated writer's irresistible, candid, an...  \n",
              "4  A bank of clouds was assembling on the not-so-...  "
            ]
          },
          "metadata": {
            "tags": []
          },
          "execution_count": 3
        }
      ]
    },
    {
      "metadata": {
        "id": "oKnYOhDKSG5T",
        "colab_type": "code",
        "outputId": "b212e771-087e-424c-c324-4ffbb7a1e2ef",
        "colab": {
          "base_uri": "https://localhost:8080/",
          "height": 86
        }
      },
      "cell_type": "code",
      "source": [
        "df.isna().sum()"
      ],
      "execution_count": 4,
      "outputs": [
        {
          "output_type": "execute_result",
          "data": {
            "text/plain": [
              "book_id         7\n",
              "name           20\n",
              "description    21\n",
              "dtype: int64"
            ]
          },
          "metadata": {
            "tags": []
          },
          "execution_count": 4
        }
      ]
    },
    {
      "metadata": {
        "id": "-gUM3Qu8TBdP",
        "colab_type": "code",
        "outputId": "805548a7-d277-4c21-9b59-194bb5ff1a31",
        "colab": {
          "base_uri": "https://localhost:8080/",
          "height": 156
        }
      },
      "cell_type": "code",
      "source": [
        "df.info()"
      ],
      "execution_count": 5,
      "outputs": [
        {
          "output_type": "stream",
          "text": [
            "<class 'pandas.core.frame.DataFrame'>\n",
            "RangeIndex: 143 entries, 0 to 142\n",
            "Data columns (total 3 columns):\n",
            "book_id        136 non-null float64\n",
            "name           123 non-null object\n",
            "description    122 non-null object\n",
            "dtypes: float64(1), object(2)\n",
            "memory usage: 3.4+ KB\n"
          ],
          "name": "stdout"
        }
      ]
    },
    {
      "metadata": {
        "id": "NpGkoqvmTFvu",
        "colab_type": "code",
        "outputId": "cd1f1d59-3a92-4b4b-9397-d66cefbebe80",
        "colab": {
          "base_uri": "https://localhost:8080/",
          "height": 300
        }
      },
      "cell_type": "code",
      "source": [
        "df.describe()"
      ],
      "execution_count": 6,
      "outputs": [
        {
          "output_type": "execute_result",
          "data": {
            "text/html": [
              "<div>\n",
              "<style scoped>\n",
              "    .dataframe tbody tr th:only-of-type {\n",
              "        vertical-align: middle;\n",
              "    }\n",
              "\n",
              "    .dataframe tbody tr th {\n",
              "        vertical-align: top;\n",
              "    }\n",
              "\n",
              "    .dataframe thead th {\n",
              "        text-align: right;\n",
              "    }\n",
              "</style>\n",
              "<table border=\"1\" class=\"dataframe\">\n",
              "  <thead>\n",
              "    <tr style=\"text-align: right;\">\n",
              "      <th></th>\n",
              "      <th>book_id</th>\n",
              "    </tr>\n",
              "  </thead>\n",
              "  <tbody>\n",
              "    <tr>\n",
              "      <th>count</th>\n",
              "      <td>136.000000</td>\n",
              "    </tr>\n",
              "    <tr>\n",
              "      <th>mean</th>\n",
              "      <td>2355.970588</td>\n",
              "    </tr>\n",
              "    <tr>\n",
              "      <th>std</th>\n",
              "      <td>1544.353802</td>\n",
              "    </tr>\n",
              "    <tr>\n",
              "      <th>min</th>\n",
              "      <td>7.000000</td>\n",
              "    </tr>\n",
              "    <tr>\n",
              "      <th>25%</th>\n",
              "      <td>966.750000</td>\n",
              "    </tr>\n",
              "    <tr>\n",
              "      <th>50%</th>\n",
              "      <td>2348.500000</td>\n",
              "    </tr>\n",
              "    <tr>\n",
              "      <th>75%</th>\n",
              "      <td>3579.750000</td>\n",
              "    </tr>\n",
              "    <tr>\n",
              "      <th>max</th>\n",
              "      <td>4971.000000</td>\n",
              "    </tr>\n",
              "  </tbody>\n",
              "</table>\n",
              "</div>"
            ],
            "text/plain": [
              "           book_id\n",
              "count   136.000000\n",
              "mean   2355.970588\n",
              "std    1544.353802\n",
              "min       7.000000\n",
              "25%     966.750000\n",
              "50%    2348.500000\n",
              "75%    3579.750000\n",
              "max    4971.000000"
            ]
          },
          "metadata": {
            "tags": []
          },
          "execution_count": 6
        }
      ]
    },
    {
      "metadata": {
        "id": "Orf5qV_TReZX",
        "colab_type": "code",
        "colab": {}
      },
      "cell_type": "code",
      "source": [
        "tfidf = TfidfVectorizer(stop_words = 'english')"
      ],
      "execution_count": 7,
      "outputs": []
    },
    {
      "metadata": {
        "id": "6SUwZsT5TQrZ",
        "colab_type": "code",
        "colab": {}
      },
      "cell_type": "code",
      "source": [
        "df['description'] = df['description'].fillna('')"
      ],
      "execution_count": 8,
      "outputs": []
    },
    {
      "metadata": {
        "id": "Z1HMPa2zTYcy",
        "colab_type": "code",
        "outputId": "9b1ce817-b999-4e8d-e769-5ebb015ad242",
        "colab": {
          "base_uri": "https://localhost:8080/",
          "height": 34
        }
      },
      "cell_type": "code",
      "source": [
        "df_matrix = tfidf.fit_transform(df['description'])\n",
        "df_matrix.shape"
      ],
      "execution_count": 9,
      "outputs": [
        {
          "output_type": "execute_result",
          "data": {
            "text/plain": [
              "(143, 4186)"
            ]
          },
          "metadata": {
            "tags": []
          },
          "execution_count": 9
        }
      ]
    },
    {
      "metadata": {
        "id": "BssMdrvLTjwV",
        "colab_type": "code",
        "colab": {}
      },
      "cell_type": "code",
      "source": [
        "cos_sim = linear_kernel(df_matrix, df_matrix)"
      ],
      "execution_count": 10,
      "outputs": []
    },
    {
      "metadata": {
        "id": "fD6AKPvMT6fR",
        "colab_type": "code",
        "colab": {}
      },
      "cell_type": "code",
      "source": [
        "indices = pd.Series(df['name'].index)"
      ],
      "execution_count": 11,
      "outputs": []
    },
    {
      "metadata": {
        "id": "ockNYu4YUBDK",
        "colab_type": "code",
        "colab": {}
      },
      "cell_type": "code",
      "source": [
        "def recommend(index, cosine_similarity = cos_sim):\n",
        "  id = indices[index]\n",
        "  \n",
        "  similarity_score = list(enumerate(cosine_similarity[id]))\n",
        "  similarity_score = sorted(similarity_score, key = lambda x: x[1], reverse = True)\n",
        "  \n",
        "  book_index = [book[0] for book in similarity_score]\n",
        "  \n",
        "  book_list = pd.DataFrame(columns = df.columns)\n",
        "  \n",
        "  book_list = df.iloc[book_index[1:]]\n",
        "  book_list['book_id'] = book_list['book_id'].values.astype(int)\n",
        "  \n",
        "  return book_list"
      ],
      "execution_count": 12,
      "outputs": []
    },
    {
      "metadata": {
        "id": "P2Iv-n8-Vqep",
        "colab_type": "code",
        "outputId": "2bbaca45-25d8-46fb-a8b5-f85cc5ed8285",
        "colab": {
          "base_uri": "https://localhost:8080/",
          "height": 139
        }
      },
      "cell_type": "code",
      "source": [
        "id = int(input('Book id of the book you like '))\n",
        "id = df[df['book_id'] == id].index.values.astype(int)[0]\n",
        "recommended_books = recommend(id)"
      ],
      "execution_count": 13,
      "outputs": [
        {
          "output_type": "stream",
          "text": [
            "Book id of the book you like 4885\n"
          ],
          "name": "stdout"
        },
        {
          "output_type": "stream",
          "text": [
            "/usr/local/lib/python3.6/dist-packages/ipykernel_launcher.py:12: SettingWithCopyWarning: \n",
            "A value is trying to be set on a copy of a slice from a DataFrame.\n",
            "Try using .loc[row_indexer,col_indexer] = value instead\n",
            "\n",
            "See the caveats in the documentation: http://pandas.pydata.org/pandas-docs/stable/indexing.html#indexing-view-versus-copy\n",
            "  if sys.path[0] == '':\n"
          ],
          "name": "stderr"
        }
      ]
    },
    {
      "metadata": {
        "id": "wPGUJsDsV4Nm",
        "colab_type": "code",
        "outputId": "ed92a654-58e9-4214-9285-1b3bded6eb93",
        "colab": {
          "base_uri": "https://localhost:8080/",
          "height": 238
        }
      },
      "cell_type": "code",
      "source": [
        "recommended_books.head(6)"
      ],
      "execution_count": 14,
      "outputs": [
        {
          "output_type": "execute_result",
          "data": {
            "text/html": [
              "<div>\n",
              "<style scoped>\n",
              "    .dataframe tbody tr th:only-of-type {\n",
              "        vertical-align: middle;\n",
              "    }\n",
              "\n",
              "    .dataframe tbody tr th {\n",
              "        vertical-align: top;\n",
              "    }\n",
              "\n",
              "    .dataframe thead th {\n",
              "        text-align: right;\n",
              "    }\n",
              "</style>\n",
              "<table border=\"1\" class=\"dataframe\">\n",
              "  <thead>\n",
              "    <tr style=\"text-align: right;\">\n",
              "      <th></th>\n",
              "      <th>book_id</th>\n",
              "      <th>name</th>\n",
              "      <th>description</th>\n",
              "    </tr>\n",
              "  </thead>\n",
              "  <tbody>\n",
              "    <tr>\n",
              "      <th>129</th>\n",
              "      <td>4758</td>\n",
              "      <td>Spiritual Astrology: A Path to Divine Awakening</td>\n",
              "      <td>The first book to link the influence of the pl...</td>\n",
              "    </tr>\n",
              "    <tr>\n",
              "      <th>69</th>\n",
              "      <td>4772</td>\n",
              "      <td>The Words of Gandhi</td>\n",
              "      <td>Gandhi's ideas are as meaningful today as they...</td>\n",
              "    </tr>\n",
              "    <tr>\n",
              "      <th>19</th>\n",
              "      <td>4484</td>\n",
              "      <td>Man's Search for Meaning</td>\n",
              "      <td>Psychiatrist Viktor Frankl's memoir has rivete...</td>\n",
              "    </tr>\n",
              "    <tr>\n",
              "      <th>138</th>\n",
              "      <td>3549</td>\n",
              "      <td>The Scientist as Rebel (New York Review Books)</td>\n",
              "      <td>From Galileo to todays amateur astronomers, s...</td>\n",
              "    </tr>\n",
              "    <tr>\n",
              "      <th>3</th>\n",
              "      <td>3361</td>\n",
              "      <td>Eat, Pray, Love</td>\n",
              "      <td>A celebrated writer's irresistible, candid, an...</td>\n",
              "    </tr>\n",
              "    <tr>\n",
              "      <th>131</th>\n",
              "      <td>1963</td>\n",
              "      <td>Walking the Walk (w/DVD): Getting Fit with Faith</td>\n",
              "      <td>Leslie Sansone teaches readers how to use thei...</td>\n",
              "    </tr>\n",
              "  </tbody>\n",
              "</table>\n",
              "</div>"
            ],
            "text/plain": [
              "     book_id                                              name  \\\n",
              "129     4758   Spiritual Astrology: A Path to Divine Awakening   \n",
              "69      4772                               The Words of Gandhi   \n",
              "19      4484                         Man's Search for Meaning    \n",
              "138     3549    The Scientist as Rebel (New York Review Books)   \n",
              "3       3361                                  Eat, Pray, Love    \n",
              "131     1963  Walking the Walk (w/DVD): Getting Fit with Faith   \n",
              "\n",
              "                                           description  \n",
              "129  The first book to link the influence of the pl...  \n",
              "69   Gandhi's ideas are as meaningful today as they...  \n",
              "19   Psychiatrist Viktor Frankl's memoir has rivete...  \n",
              "138  From Galileo to todays amateur astronomers, s...  \n",
              "3    A celebrated writer's irresistible, candid, an...  \n",
              "131  Leslie Sansone teaches readers how to use thei...  "
            ]
          },
          "metadata": {
            "tags": []
          },
          "execution_count": 14
        }
      ]
    },
    {
      "metadata": {
        "id": "5KO5A53BWNyU",
        "colab_type": "code",
        "outputId": "fee170c1-5fd3-4568-af71-1acd935da22a",
        "colab": {
          "base_uri": "https://localhost:8080/",
          "height": 139
        }
      },
      "cell_type": "code",
      "source": [
        "id = int(input('Book id of the book you like '))\n",
        "id = df[df['book_id'] == id].index.values.astype(int)[0]\n",
        "recommended_books = recommend(id)"
      ],
      "execution_count": 15,
      "outputs": [
        {
          "output_type": "stream",
          "text": [
            "Book id of the book you like 4758\n"
          ],
          "name": "stdout"
        },
        {
          "output_type": "stream",
          "text": [
            "/usr/local/lib/python3.6/dist-packages/ipykernel_launcher.py:12: SettingWithCopyWarning: \n",
            "A value is trying to be set on a copy of a slice from a DataFrame.\n",
            "Try using .loc[row_indexer,col_indexer] = value instead\n",
            "\n",
            "See the caveats in the documentation: http://pandas.pydata.org/pandas-docs/stable/indexing.html#indexing-view-versus-copy\n",
            "  if sys.path[0] == '':\n"
          ],
          "name": "stderr"
        }
      ]
    },
    {
      "metadata": {
        "id": "3MuRgo5xWbJM",
        "colab_type": "code",
        "outputId": "8b642c75-e0da-4b38-a851-6f251c5251b0",
        "colab": {
          "base_uri": "https://localhost:8080/",
          "height": 238
        }
      },
      "cell_type": "code",
      "source": [
        "recommended_books.head(6)"
      ],
      "execution_count": 16,
      "outputs": [
        {
          "output_type": "execute_result",
          "data": {
            "text/html": [
              "<div>\n",
              "<style scoped>\n",
              "    .dataframe tbody tr th:only-of-type {\n",
              "        vertical-align: middle;\n",
              "    }\n",
              "\n",
              "    .dataframe tbody tr th {\n",
              "        vertical-align: top;\n",
              "    }\n",
              "\n",
              "    .dataframe thead th {\n",
              "        text-align: right;\n",
              "    }\n",
              "</style>\n",
              "<table border=\"1\" class=\"dataframe\">\n",
              "  <thead>\n",
              "    <tr style=\"text-align: right;\">\n",
              "      <th></th>\n",
              "      <th>book_id</th>\n",
              "      <th>name</th>\n",
              "      <th>description</th>\n",
              "    </tr>\n",
              "  </thead>\n",
              "  <tbody>\n",
              "    <tr>\n",
              "      <th>33</th>\n",
              "      <td>4885</td>\n",
              "      <td>A Partner in Holiness: Deepening Mindfulness, ...</td>\n",
              "      <td>\"The lessons in Kedushat Levi were not origina...</td>\n",
              "    </tr>\n",
              "    <tr>\n",
              "      <th>46</th>\n",
              "      <td>993</td>\n",
              "      <td>Oregon High: A Climbing Guide to Nine Cascade ...</td>\n",
              "      <td>OREGON HIGH : A Climbing Guide to Nine Cascade...</td>\n",
              "    </tr>\n",
              "    <tr>\n",
              "      <th>95</th>\n",
              "      <td>1085</td>\n",
              "      <td>Brainstorm: The Power and Purpose of the Teena...</td>\n",
              "      <td>In this groundbreaking book, the bestselling a...</td>\n",
              "    </tr>\n",
              "    <tr>\n",
              "      <th>19</th>\n",
              "      <td>4484</td>\n",
              "      <td>Man's Search for Meaning</td>\n",
              "      <td>Psychiatrist Viktor Frankl's memoir has rivete...</td>\n",
              "    </tr>\n",
              "    <tr>\n",
              "      <th>69</th>\n",
              "      <td>4772</td>\n",
              "      <td>The Words of Gandhi</td>\n",
              "      <td>Gandhi's ideas are as meaningful today as they...</td>\n",
              "    </tr>\n",
              "    <tr>\n",
              "      <th>24</th>\n",
              "      <td>847</td>\n",
              "      <td>The Last Lecture</td>\n",
              "      <td>Based on the extraordinary final lecture by Ca...</td>\n",
              "    </tr>\n",
              "  </tbody>\n",
              "</table>\n",
              "</div>"
            ],
            "text/plain": [
              "    book_id                                               name  \\\n",
              "33     4885  A Partner in Holiness: Deepening Mindfulness, ...   \n",
              "46      993  Oregon High: A Climbing Guide to Nine Cascade ...   \n",
              "95     1085  Brainstorm: The Power and Purpose of the Teena...   \n",
              "19     4484                          Man's Search for Meaning    \n",
              "69     4772                                The Words of Gandhi   \n",
              "24      847                                   The Last Lecture   \n",
              "\n",
              "                                          description  \n",
              "33  \"The lessons in Kedushat Levi were not origina...  \n",
              "46  OREGON HIGH : A Climbing Guide to Nine Cascade...  \n",
              "95  In this groundbreaking book, the bestselling a...  \n",
              "19  Psychiatrist Viktor Frankl's memoir has rivete...  \n",
              "69  Gandhi's ideas are as meaningful today as they...  \n",
              "24  Based on the extraordinary final lecture by Ca...  "
            ]
          },
          "metadata": {
            "tags": []
          },
          "execution_count": 16
        }
      ]
    }
  ]
}
