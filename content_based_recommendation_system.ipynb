{
  "nbformat": 4,
  "nbformat_minor": 0,
  "metadata": {
    "colab": {
      "name": "content_based_recommendation_system.ipynb",
      "version": "0.3.2",
      "provenance": [],
      "collapsed_sections": [],
      "include_colab_link": true
    },
    "kernelspec": {
      "name": "python3",
      "display_name": "Python 3"
    },
    "accelerator": "TPU"
  },
  "cells": [
    {
      "cell_type": "markdown",
      "metadata": {
        "id": "view-in-github",
        "colab_type": "text"
      },
      "source": [
        "<a href=\"https://colab.research.google.com/github/RamKaushikR/Book-Recommendation-System/blob/master/content_based_recommendation_system.ipynb\" target=\"_parent\"><img src=\"https://colab.research.google.com/assets/colab-badge.svg\" alt=\"Open In Colab\"/></a>"
      ]
    },
    {
      "metadata": {
        "id": "AMz3WMK5PG2x",
        "colab_type": "code",
        "colab": {
          "base_uri": "https://localhost:8080/",
          "height": 34
        },
        "outputId": "ca812250-11a0-43f4-d68e-ecfea57ba5dc"
      },
      "cell_type": "code",
      "source": [
        "from google.colab import drive\n",
        "drive.mount('/content/gdrive')"
      ],
      "execution_count": 1,
      "outputs": [
        {
          "output_type": "stream",
          "text": [
            "Drive already mounted at /content/gdrive; to attempt to forcibly remount, call drive.mount(\"/content/gdrive\", force_remount=True).\n"
          ],
          "name": "stdout"
        }
      ]
    },
    {
      "metadata": {
        "id": "egpafV0blyjR",
        "colab_type": "code",
        "colab": {}
      },
      "cell_type": "code",
      "source": [
        "import numpy as np"
      ],
      "execution_count": 0,
      "outputs": []
    },
    {
      "metadata": {
        "id": "culqWodDPt9C",
        "colab_type": "code",
        "colab": {}
      },
      "cell_type": "code",
      "source": [
        "import pandas as pd\n",
        "from sklearn.metrics.pairwise import linear_kernel\n",
        "from sklearn.feature_extraction.text import TfidfVectorizer"
      ],
      "execution_count": 0,
      "outputs": []
    },
    {
      "metadata": {
        "id": "glQ4Q38lRJQo",
        "colab_type": "code",
        "colab": {
          "base_uri": "https://localhost:8080/",
          "height": 204
        },
        "outputId": "df36204d-2980-4bbb-9207-37d9f9ba1829"
      },
      "cell_type": "code",
      "source": [
        "df = pd.read_csv('/content/gdrive/My Drive/Book Recommendation/description.csv', encoding = 'latin-1')\n",
        "df.head()"
      ],
      "execution_count": 4,
      "outputs": [
        {
          "output_type": "execute_result",
          "data": {
            "text/html": [
              "<div>\n",
              "<style scoped>\n",
              "    .dataframe tbody tr th:only-of-type {\n",
              "        vertical-align: middle;\n",
              "    }\n",
              "\n",
              "    .dataframe tbody tr th {\n",
              "        vertical-align: top;\n",
              "    }\n",
              "\n",
              "    .dataframe thead th {\n",
              "        text-align: right;\n",
              "    }\n",
              "</style>\n",
              "<table border=\"1\" class=\"dataframe\">\n",
              "  <thead>\n",
              "    <tr style=\"text-align: right;\">\n",
              "      <th></th>\n",
              "      <th>book_id</th>\n",
              "      <th>name</th>\n",
              "      <th>description</th>\n",
              "    </tr>\n",
              "  </thead>\n",
              "  <tbody>\n",
              "    <tr>\n",
              "      <th>0</th>\n",
              "      <td>4833.0</td>\n",
              "      <td>The Glass Castle</td>\n",
              "      <td>A tender, moving tale of unconditional love in...</td>\n",
              "    </tr>\n",
              "    <tr>\n",
              "      <th>1</th>\n",
              "      <td>590.0</td>\n",
              "      <td>Night (The Night Trilogy, #1)</td>\n",
              "      <td>Born into a Jewish ghetto in Hungary, as a chi...</td>\n",
              "    </tr>\n",
              "    <tr>\n",
              "      <th>2</th>\n",
              "      <td>4264.0</td>\n",
              "      <td>Angela's Ashes (Frank McCourt, #1)</td>\n",
              "      <td>Imbued on every page with Frank McCourt's asto...</td>\n",
              "    </tr>\n",
              "    <tr>\n",
              "      <th>3</th>\n",
              "      <td>3361.0</td>\n",
              "      <td>Eat, Pray, Love</td>\n",
              "      <td>A celebrated writer's irresistible, candid, an...</td>\n",
              "    </tr>\n",
              "    <tr>\n",
              "      <th>4</th>\n",
              "      <td>4535.0</td>\n",
              "      <td>Into Thin Air: A Personal Account of the Mount...</td>\n",
              "      <td>A bank of clouds was assembling on the not-so-...</td>\n",
              "    </tr>\n",
              "  </tbody>\n",
              "</table>\n",
              "</div>"
            ],
            "text/plain": [
              "   book_id                                               name  \\\n",
              "0   4833.0                                  The Glass Castle    \n",
              "1    590.0                     Night (The Night Trilogy, #1)    \n",
              "2   4264.0                Angela's Ashes (Frank McCourt, #1)    \n",
              "3   3361.0                                   Eat, Pray, Love    \n",
              "4   4535.0  Into Thin Air: A Personal Account of the Mount...   \n",
              "\n",
              "                                         description  \n",
              "0  A tender, moving tale of unconditional love in...  \n",
              "1  Born into a Jewish ghetto in Hungary, as a chi...  \n",
              "2  Imbued on every page with Frank McCourt's asto...  \n",
              "3  A celebrated writer's irresistible, candid, an...  \n",
              "4  A bank of clouds was assembling on the not-so-...  "
            ]
          },
          "metadata": {
            "tags": []
          },
          "execution_count": 4
        }
      ]
    },
    {
      "metadata": {
        "id": "oKnYOhDKSG5T",
        "colab_type": "code",
        "colab": {
          "base_uri": "https://localhost:8080/",
          "height": 85
        },
        "outputId": "1f88fa2e-707d-473b-cc02-bffe48a41e07"
      },
      "cell_type": "code",
      "source": [
        "df.isna().sum()"
      ],
      "execution_count": 5,
      "outputs": [
        {
          "output_type": "execute_result",
          "data": {
            "text/plain": [
              "book_id         7\n",
              "name           20\n",
              "description    21\n",
              "dtype: int64"
            ]
          },
          "metadata": {
            "tags": []
          },
          "execution_count": 5
        }
      ]
    },
    {
      "metadata": {
        "id": "-gUM3Qu8TBdP",
        "colab_type": "code",
        "colab": {
          "base_uri": "https://localhost:8080/",
          "height": 153
        },
        "outputId": "01774398-fc28-48d8-d457-4d6bd0e943dd"
      },
      "cell_type": "code",
      "source": [
        "df.info()"
      ],
      "execution_count": 6,
      "outputs": [
        {
          "output_type": "stream",
          "text": [
            "<class 'pandas.core.frame.DataFrame'>\n",
            "RangeIndex: 143 entries, 0 to 142\n",
            "Data columns (total 3 columns):\n",
            "book_id        136 non-null float64\n",
            "name           123 non-null object\n",
            "description    122 non-null object\n",
            "dtypes: float64(1), object(2)\n",
            "memory usage: 3.4+ KB\n"
          ],
          "name": "stdout"
        }
      ]
    },
    {
      "metadata": {
        "id": "NpGkoqvmTFvu",
        "colab_type": "code",
        "colab": {
          "base_uri": "https://localhost:8080/",
          "height": 297
        },
        "outputId": "fb9de87c-6abc-44ac-c3ce-0521bbc10204"
      },
      "cell_type": "code",
      "source": [
        "df.describe()"
      ],
      "execution_count": 7,
      "outputs": [
        {
          "output_type": "execute_result",
          "data": {
            "text/html": [
              "<div>\n",
              "<style scoped>\n",
              "    .dataframe tbody tr th:only-of-type {\n",
              "        vertical-align: middle;\n",
              "    }\n",
              "\n",
              "    .dataframe tbody tr th {\n",
              "        vertical-align: top;\n",
              "    }\n",
              "\n",
              "    .dataframe thead th {\n",
              "        text-align: right;\n",
              "    }\n",
              "</style>\n",
              "<table border=\"1\" class=\"dataframe\">\n",
              "  <thead>\n",
              "    <tr style=\"text-align: right;\">\n",
              "      <th></th>\n",
              "      <th>book_id</th>\n",
              "    </tr>\n",
              "  </thead>\n",
              "  <tbody>\n",
              "    <tr>\n",
              "      <th>count</th>\n",
              "      <td>136.000000</td>\n",
              "    </tr>\n",
              "    <tr>\n",
              "      <th>mean</th>\n",
              "      <td>2355.970588</td>\n",
              "    </tr>\n",
              "    <tr>\n",
              "      <th>std</th>\n",
              "      <td>1544.353802</td>\n",
              "    </tr>\n",
              "    <tr>\n",
              "      <th>min</th>\n",
              "      <td>7.000000</td>\n",
              "    </tr>\n",
              "    <tr>\n",
              "      <th>25%</th>\n",
              "      <td>966.750000</td>\n",
              "    </tr>\n",
              "    <tr>\n",
              "      <th>50%</th>\n",
              "      <td>2348.500000</td>\n",
              "    </tr>\n",
              "    <tr>\n",
              "      <th>75%</th>\n",
              "      <td>3579.750000</td>\n",
              "    </tr>\n",
              "    <tr>\n",
              "      <th>max</th>\n",
              "      <td>4971.000000</td>\n",
              "    </tr>\n",
              "  </tbody>\n",
              "</table>\n",
              "</div>"
            ],
            "text/plain": [
              "           book_id\n",
              "count   136.000000\n",
              "mean   2355.970588\n",
              "std    1544.353802\n",
              "min       7.000000\n",
              "25%     966.750000\n",
              "50%    2348.500000\n",
              "75%    3579.750000\n",
              "max    4971.000000"
            ]
          },
          "metadata": {
            "tags": []
          },
          "execution_count": 7
        }
      ]
    },
    {
      "metadata": {
        "id": "Orf5qV_TReZX",
        "colab_type": "code",
        "colab": {}
      },
      "cell_type": "code",
      "source": [
        "tfidf = TfidfVectorizer(stop_words = 'english')"
      ],
      "execution_count": 0,
      "outputs": []
    },
    {
      "metadata": {
        "id": "6SUwZsT5TQrZ",
        "colab_type": "code",
        "colab": {}
      },
      "cell_type": "code",
      "source": [
        "df['description'] = df['description'].fillna('')"
      ],
      "execution_count": 0,
      "outputs": []
    },
    {
      "metadata": {
        "id": "Z1HMPa2zTYcy",
        "colab_type": "code",
        "colab": {
          "base_uri": "https://localhost:8080/",
          "height": 34
        },
        "outputId": "f6e73910-294d-4a4d-ccfd-24904c7c9d6c"
      },
      "cell_type": "code",
      "source": [
        "df_matrix = tfidf.fit_transform(df['description'])\n",
        "df_matrix.shape"
      ],
      "execution_count": 10,
      "outputs": [
        {
          "output_type": "execute_result",
          "data": {
            "text/plain": [
              "(143, 4186)"
            ]
          },
          "metadata": {
            "tags": []
          },
          "execution_count": 10
        }
      ]
    },
    {
      "metadata": {
        "id": "BssMdrvLTjwV",
        "colab_type": "code",
        "colab": {}
      },
      "cell_type": "code",
      "source": [
        "cos_sim = linear_kernel(df_matrix, df_matrix)"
      ],
      "execution_count": 0,
      "outputs": []
    },
    {
      "metadata": {
        "id": "fD6AKPvMT6fR",
        "colab_type": "code",
        "colab": {}
      },
      "cell_type": "code",
      "source": [
        "indices = pd.Series(df['name'].index)"
      ],
      "execution_count": 0,
      "outputs": []
    },
    {
      "metadata": {
        "id": "ockNYu4YUBDK",
        "colab_type": "code",
        "colab": {}
      },
      "cell_type": "code",
      "source": [
        "def recommend(index, cosine_similarity = cos_sim):\n",
        "  id = indices[index]\n",
        "  \n",
        "  similarity_score = list(enumerate(cosine_similarity[id]))\n",
        "  similarity_score = sorted(similarity_score, key = lambda x: x[1], reverse = True)\n",
        "  \n",
        "  book_index = [book[0] for book in similarity_score]\n",
        "  \n",
        "  book_list = pd.DataFrame(columns = df.columns)\n",
        "  \n",
        "  book_list['book_id'] = df['book_id'].iloc[book_index[1:]].values.astype(int)\n",
        "  book_list['name'] = df['name'].iloc[book_index[1:]]\n",
        "  book_list['description'] = df['description'].iloc[book_index[1:]]\n",
        "  \n",
        "  return book_list"
      ],
      "execution_count": 0,
      "outputs": []
    },
    {
      "metadata": {
        "id": "P2Iv-n8-Vqep",
        "colab_type": "code",
        "colab": {
          "base_uri": "https://localhost:8080/",
          "height": 34
        },
        "outputId": "d5433505-ba19-4ad0-8723-ecb31d66176b"
      },
      "cell_type": "code",
      "source": [
        "id = int(input('Book id of the book you like '))\n",
        "id = df[df['book_id'] == id].index.values.astype(int)[0]\n",
        "recommended_books = recommend(id)"
      ],
      "execution_count": 14,
      "outputs": [
        {
          "output_type": "stream",
          "text": [
            "Book id of the book you like 4885\n"
          ],
          "name": "stdout"
        }
      ]
    },
    {
      "metadata": {
        "id": "wPGUJsDsV4Nm",
        "colab_type": "code",
        "colab": {
          "base_uri": "https://localhost:8080/",
          "height": 235
        },
        "outputId": "247b557c-00b1-4866-8c68-ea973e53b249"
      },
      "cell_type": "code",
      "source": [
        "recommended_books.head(6)"
      ],
      "execution_count": 15,
      "outputs": [
        {
          "output_type": "execute_result",
          "data": {
            "text/html": [
              "<div>\n",
              "<style scoped>\n",
              "    .dataframe tbody tr th:only-of-type {\n",
              "        vertical-align: middle;\n",
              "    }\n",
              "\n",
              "    .dataframe tbody tr th {\n",
              "        vertical-align: top;\n",
              "    }\n",
              "\n",
              "    .dataframe thead th {\n",
              "        text-align: right;\n",
              "    }\n",
              "</style>\n",
              "<table border=\"1\" class=\"dataframe\">\n",
              "  <thead>\n",
              "    <tr style=\"text-align: right;\">\n",
              "      <th></th>\n",
              "      <th>book_id</th>\n",
              "      <th>name</th>\n",
              "      <th>description</th>\n",
              "    </tr>\n",
              "  </thead>\n",
              "  <tbody>\n",
              "    <tr>\n",
              "      <th>0</th>\n",
              "      <td>4758</td>\n",
              "      <td>The Glass Castle</td>\n",
              "      <td>A tender, moving tale of unconditional love in...</td>\n",
              "    </tr>\n",
              "    <tr>\n",
              "      <th>1</th>\n",
              "      <td>4772</td>\n",
              "      <td>Night (The Night Trilogy, #1)</td>\n",
              "      <td>Born into a Jewish ghetto in Hungary, as a chi...</td>\n",
              "    </tr>\n",
              "    <tr>\n",
              "      <th>2</th>\n",
              "      <td>4484</td>\n",
              "      <td>Angela's Ashes (Frank McCourt, #1)</td>\n",
              "      <td>Imbued on every page with Frank McCourt's asto...</td>\n",
              "    </tr>\n",
              "    <tr>\n",
              "      <th>3</th>\n",
              "      <td>3549</td>\n",
              "      <td>Eat, Pray, Love</td>\n",
              "      <td>A celebrated writer's irresistible, candid, an...</td>\n",
              "    </tr>\n",
              "    <tr>\n",
              "      <th>4</th>\n",
              "      <td>3361</td>\n",
              "      <td>Into Thin Air: A Personal Account of the Mount...</td>\n",
              "      <td>A bank of clouds was assembling on the not-so-...</td>\n",
              "    </tr>\n",
              "    <tr>\n",
              "      <th>5</th>\n",
              "      <td>1963</td>\n",
              "      <td>Tuesdays with Morrie</td>\n",
              "      <td>Maybe it was a grandparent, or a teacher or a ...</td>\n",
              "    </tr>\n",
              "  </tbody>\n",
              "</table>\n",
              "</div>"
            ],
            "text/plain": [
              "   book_id                                               name  \\\n",
              "0     4758                                  The Glass Castle    \n",
              "1     4772                     Night (The Night Trilogy, #1)    \n",
              "2     4484                Angela's Ashes (Frank McCourt, #1)    \n",
              "3     3549                                   Eat, Pray, Love    \n",
              "4     3361  Into Thin Air: A Personal Account of the Mount...   \n",
              "5     1963                              Tuesdays with Morrie    \n",
              "\n",
              "                                         description  \n",
              "0  A tender, moving tale of unconditional love in...  \n",
              "1  Born into a Jewish ghetto in Hungary, as a chi...  \n",
              "2  Imbued on every page with Frank McCourt's asto...  \n",
              "3  A celebrated writer's irresistible, candid, an...  \n",
              "4  A bank of clouds was assembling on the not-so-...  \n",
              "5  Maybe it was a grandparent, or a teacher or a ...  "
            ]
          },
          "metadata": {
            "tags": []
          },
          "execution_count": 15
        }
      ]
    },
    {
      "metadata": {
        "id": "5KO5A53BWNyU",
        "colab_type": "code",
        "colab": {
          "base_uri": "https://localhost:8080/",
          "height": 34
        },
        "outputId": "19b9b851-1a40-4fe1-9e62-094b67afc0c9"
      },
      "cell_type": "code",
      "source": [
        "id = int(input('Book id of the book you like '))\n",
        "id = df[df['book_id'] == id].index.values.astype(int)[0]\n",
        "recommended_books = recommend(id)"
      ],
      "execution_count": 16,
      "outputs": [
        {
          "output_type": "stream",
          "text": [
            "Book id of the book you like 4758\n"
          ],
          "name": "stdout"
        }
      ]
    },
    {
      "metadata": {
        "id": "3MuRgo5xWbJM",
        "colab_type": "code",
        "colab": {
          "base_uri": "https://localhost:8080/",
          "height": 235
        },
        "outputId": "3c765045-b608-4a73-cc34-6016469c592a"
      },
      "cell_type": "code",
      "source": [
        "recommended_books.head(6)"
      ],
      "execution_count": 17,
      "outputs": [
        {
          "output_type": "execute_result",
          "data": {
            "text/html": [
              "<div>\n",
              "<style scoped>\n",
              "    .dataframe tbody tr th:only-of-type {\n",
              "        vertical-align: middle;\n",
              "    }\n",
              "\n",
              "    .dataframe tbody tr th {\n",
              "        vertical-align: top;\n",
              "    }\n",
              "\n",
              "    .dataframe thead th {\n",
              "        text-align: right;\n",
              "    }\n",
              "</style>\n",
              "<table border=\"1\" class=\"dataframe\">\n",
              "  <thead>\n",
              "    <tr style=\"text-align: right;\">\n",
              "      <th></th>\n",
              "      <th>book_id</th>\n",
              "      <th>name</th>\n",
              "      <th>description</th>\n",
              "    </tr>\n",
              "  </thead>\n",
              "  <tbody>\n",
              "    <tr>\n",
              "      <th>0</th>\n",
              "      <td>4885</td>\n",
              "      <td>The Glass Castle</td>\n",
              "      <td>A tender, moving tale of unconditional love in...</td>\n",
              "    </tr>\n",
              "    <tr>\n",
              "      <th>1</th>\n",
              "      <td>993</td>\n",
              "      <td>Night (The Night Trilogy, #1)</td>\n",
              "      <td>Born into a Jewish ghetto in Hungary, as a chi...</td>\n",
              "    </tr>\n",
              "    <tr>\n",
              "      <th>2</th>\n",
              "      <td>1085</td>\n",
              "      <td>Angela's Ashes (Frank McCourt, #1)</td>\n",
              "      <td>Imbued on every page with Frank McCourt's asto...</td>\n",
              "    </tr>\n",
              "    <tr>\n",
              "      <th>3</th>\n",
              "      <td>4484</td>\n",
              "      <td>Eat, Pray, Love</td>\n",
              "      <td>A celebrated writer's irresistible, candid, an...</td>\n",
              "    </tr>\n",
              "    <tr>\n",
              "      <th>4</th>\n",
              "      <td>4772</td>\n",
              "      <td>Into Thin Air: A Personal Account of the Mount...</td>\n",
              "      <td>A bank of clouds was assembling on the not-so-...</td>\n",
              "    </tr>\n",
              "    <tr>\n",
              "      <th>5</th>\n",
              "      <td>847</td>\n",
              "      <td>Tuesdays with Morrie</td>\n",
              "      <td>Maybe it was a grandparent, or a teacher or a ...</td>\n",
              "    </tr>\n",
              "  </tbody>\n",
              "</table>\n",
              "</div>"
            ],
            "text/plain": [
              "   book_id                                               name  \\\n",
              "0     4885                                  The Glass Castle    \n",
              "1      993                     Night (The Night Trilogy, #1)    \n",
              "2     1085                Angela's Ashes (Frank McCourt, #1)    \n",
              "3     4484                                   Eat, Pray, Love    \n",
              "4     4772  Into Thin Air: A Personal Account of the Mount...   \n",
              "5      847                              Tuesdays with Morrie    \n",
              "\n",
              "                                         description  \n",
              "0  A tender, moving tale of unconditional love in...  \n",
              "1  Born into a Jewish ghetto in Hungary, as a chi...  \n",
              "2  Imbued on every page with Frank McCourt's asto...  \n",
              "3  A celebrated writer's irresistible, candid, an...  \n",
              "4  A bank of clouds was assembling on the not-so-...  \n",
              "5  Maybe it was a grandparent, or a teacher or a ...  "
            ]
          },
          "metadata": {
            "tags": []
          },
          "execution_count": 17
        }
      ]
    }
  ]
}